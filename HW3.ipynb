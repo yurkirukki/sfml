{
 "cells": [
  {
   "cell_type": "code",
   "execution_count": 86,
   "metadata": {},
   "outputs": [],
   "source": [
    "import pandas as pd\n",
    "import numpy as np\n",
    "import matplotlib.pyplot as plt\n",
    "\n",
    "%matplotlib inline\n",
    "plt.style.use('ggplot')\n",
    "plt.rcParams['figure.figsize'] = (12,5)"
   ]
  },
  {
   "cell_type": "code",
   "execution_count": 87,
   "metadata": {},
   "outputs": [],
   "source": [
    "#часть с ответами\n",
    "df_train = pd.read_csv('train.csv',\n",
    "                       sep=',', encoding='utf8')\n",
    "#часть без ответов\n",
    "df_test = pd.read_csv('test.csv',\n",
    "                       sep=',', encoding='utf8')"
   ]
  },
  {
   "cell_type": "code",
   "execution_count": 88,
   "metadata": {},
   "outputs": [
    {
     "name": "stderr",
     "output_type": "stream",
     "text": [
      "c:\\users\\yurki\\appdata\\local\\programs\\python\\python37\\lib\\site-packages\\pandas\\core\\frame.py:6211: FutureWarning: Sorting because non-concatenation axis is not aligned. A future version\n",
      "of pandas will change to not sort by default.\n",
      "\n",
      "To accept the future behavior, pass 'sort=False'.\n",
      "\n",
      "To retain the current behavior and silence the warning, pass 'sort=True'.\n",
      "\n",
      "  sort=sort)\n"
     ]
    }
   ],
   "source": [
    "# объединим и пометим сеты\n",
    "df_train.loc[:, 'sample'] = 'train'\n",
    "df_test.loc[:, 'sample'] = 'test'\n",
    "df = df_train.append(df_test).reset_index(drop=True)"
   ]
  },
  {
   "cell_type": "code",
   "execution_count": 82,
   "metadata": {},
   "outputs": [
    {
     "data": {
      "text/html": [
       "<div>\n",
       "<style scoped>\n",
       "    .dataframe tbody tr th:only-of-type {\n",
       "        vertical-align: middle;\n",
       "    }\n",
       "\n",
       "    .dataframe tbody tr th {\n",
       "        vertical-align: top;\n",
       "    }\n",
       "\n",
       "    .dataframe thead th {\n",
       "        text-align: right;\n",
       "    }\n",
       "</style>\n",
       "<table border=\"1\" class=\"dataframe\">\n",
       "  <thead>\n",
       "    <tr style=\"text-align: right;\">\n",
       "      <th></th>\n",
       "      <th>age</th>\n",
       "      <th>campaign</th>\n",
       "      <th>cons.conf.idx</th>\n",
       "      <th>cons.price.idx</th>\n",
       "      <th>duration</th>\n",
       "      <th>emp.var.rate</th>\n",
       "      <th>euribor3m</th>\n",
       "      <th>nr.employed</th>\n",
       "      <th>pdays</th>\n",
       "      <th>previous</th>\n",
       "      <th>...</th>\n",
       "      <th>default_yes</th>\n",
       "      <th>housing_no</th>\n",
       "      <th>housing_yes</th>\n",
       "      <th>loan_no</th>\n",
       "      <th>loan_yes</th>\n",
       "      <th>contact_cellular</th>\n",
       "      <th>contact_telephone</th>\n",
       "      <th>poutcome_failure</th>\n",
       "      <th>poutcome_nonexistent</th>\n",
       "      <th>poutcome_success</th>\n",
       "    </tr>\n",
       "  </thead>\n",
       "  <tbody>\n",
       "    <tr>\n",
       "      <th>24712</th>\n",
       "      <td>57</td>\n",
       "      <td>1</td>\n",
       "      <td>-46.2</td>\n",
       "      <td>92.893</td>\n",
       "      <td>371</td>\n",
       "      <td>-1.8</td>\n",
       "      <td>1.299</td>\n",
       "      <td>5099.1</td>\n",
       "      <td>999</td>\n",
       "      <td>1</td>\n",
       "      <td>...</td>\n",
       "      <td>0</td>\n",
       "      <td>1</td>\n",
       "      <td>0</td>\n",
       "      <td>0</td>\n",
       "      <td>1</td>\n",
       "      <td>1</td>\n",
       "      <td>0</td>\n",
       "      <td>1</td>\n",
       "      <td>0</td>\n",
       "      <td>0</td>\n",
       "    </tr>\n",
       "    <tr>\n",
       "      <th>24713</th>\n",
       "      <td>55</td>\n",
       "      <td>2</td>\n",
       "      <td>-36.4</td>\n",
       "      <td>93.994</td>\n",
       "      <td>285</td>\n",
       "      <td>1.1</td>\n",
       "      <td>4.860</td>\n",
       "      <td>5191.0</td>\n",
       "      <td>999</td>\n",
       "      <td>0</td>\n",
       "      <td>...</td>\n",
       "      <td>0</td>\n",
       "      <td>0</td>\n",
       "      <td>1</td>\n",
       "      <td>1</td>\n",
       "      <td>0</td>\n",
       "      <td>0</td>\n",
       "      <td>1</td>\n",
       "      <td>0</td>\n",
       "      <td>1</td>\n",
       "      <td>0</td>\n",
       "    </tr>\n",
       "    <tr>\n",
       "      <th>24714</th>\n",
       "      <td>33</td>\n",
       "      <td>1</td>\n",
       "      <td>-46.2</td>\n",
       "      <td>92.893</td>\n",
       "      <td>52</td>\n",
       "      <td>-1.8</td>\n",
       "      <td>1.313</td>\n",
       "      <td>5099.1</td>\n",
       "      <td>999</td>\n",
       "      <td>1</td>\n",
       "      <td>...</td>\n",
       "      <td>0</td>\n",
       "      <td>1</td>\n",
       "      <td>0</td>\n",
       "      <td>1</td>\n",
       "      <td>0</td>\n",
       "      <td>1</td>\n",
       "      <td>0</td>\n",
       "      <td>1</td>\n",
       "      <td>0</td>\n",
       "      <td>0</td>\n",
       "    </tr>\n",
       "    <tr>\n",
       "      <th>24715</th>\n",
       "      <td>36</td>\n",
       "      <td>4</td>\n",
       "      <td>-41.8</td>\n",
       "      <td>94.465</td>\n",
       "      <td>355</td>\n",
       "      <td>1.4</td>\n",
       "      <td>4.967</td>\n",
       "      <td>5228.1</td>\n",
       "      <td>999</td>\n",
       "      <td>0</td>\n",
       "      <td>...</td>\n",
       "      <td>0</td>\n",
       "      <td>1</td>\n",
       "      <td>0</td>\n",
       "      <td>1</td>\n",
       "      <td>0</td>\n",
       "      <td>0</td>\n",
       "      <td>1</td>\n",
       "      <td>0</td>\n",
       "      <td>1</td>\n",
       "      <td>0</td>\n",
       "    </tr>\n",
       "    <tr>\n",
       "      <th>24716</th>\n",
       "      <td>27</td>\n",
       "      <td>2</td>\n",
       "      <td>-42.7</td>\n",
       "      <td>93.918</td>\n",
       "      <td>189</td>\n",
       "      <td>1.4</td>\n",
       "      <td>4.963</td>\n",
       "      <td>5228.1</td>\n",
       "      <td>999</td>\n",
       "      <td>0</td>\n",
       "      <td>...</td>\n",
       "      <td>0</td>\n",
       "      <td>0</td>\n",
       "      <td>1</td>\n",
       "      <td>1</td>\n",
       "      <td>0</td>\n",
       "      <td>1</td>\n",
       "      <td>0</td>\n",
       "      <td>0</td>\n",
       "      <td>1</td>\n",
       "      <td>0</td>\n",
       "    </tr>\n",
       "  </tbody>\n",
       "</table>\n",
       "<p>5 rows × 30 columns</p>\n",
       "</div>"
      ],
      "text/plain": [
       "       age  campaign  cons.conf.idx  cons.price.idx  duration  emp.var.rate  \\\n",
       "24712   57         1          -46.2          92.893       371          -1.8   \n",
       "24713   55         2          -36.4          93.994       285           1.1   \n",
       "24714   33         1          -46.2          92.893        52          -1.8   \n",
       "24715   36         4          -41.8          94.465       355           1.4   \n",
       "24716   27         2          -42.7          93.918       189           1.4   \n",
       "\n",
       "       euribor3m  nr.employed  pdays  previous        ...         default_yes  \\\n",
       "24712      1.299       5099.1    999         1        ...                   0   \n",
       "24713      4.860       5191.0    999         0        ...                   0   \n",
       "24714      1.313       5099.1    999         1        ...                   0   \n",
       "24715      4.967       5228.1    999         0        ...                   0   \n",
       "24716      4.963       5228.1    999         0        ...                   0   \n",
       "\n",
       "       housing_no  housing_yes  loan_no  loan_yes  contact_cellular  \\\n",
       "24712           1            0        0         1                 1   \n",
       "24713           0            1        1         0                 0   \n",
       "24714           1            0        1         0                 1   \n",
       "24715           1            0        1         0                 0   \n",
       "24716           0            1        1         0                 1   \n",
       "\n",
       "       contact_telephone  poutcome_failure  poutcome_nonexistent  \\\n",
       "24712                  0                 1                     0   \n",
       "24713                  1                 0                     1   \n",
       "24714                  0                 1                     0   \n",
       "24715                  1                 0                     1   \n",
       "24716                  0                 0                     1   \n",
       "\n",
       "       poutcome_success  \n",
       "24712                 0  \n",
       "24713                 0  \n",
       "24714                 0  \n",
       "24715                 0  \n",
       "24716                 0  \n",
       "\n",
       "[5 rows x 30 columns]"
      ]
     },
     "execution_count": 82,
     "metadata": {},
     "output_type": "execute_result"
    }
   ],
   "source": [
    "df_test1_preproc.head()"
   ]
  },
  {
   "cell_type": "code",
   "execution_count": 81,
   "metadata": {},
   "outputs": [
    {
     "name": "stdout",
     "output_type": "stream",
     "text": [
      "<class 'pandas.core.frame.DataFrame'>\n",
      "Int64Index: 16476 entries, 24712 to 41187\n",
      "Data columns (total 30 columns):\n",
      "age                     16476 non-null int64\n",
      "campaign                16476 non-null int64\n",
      "cons.conf.idx           16476 non-null float64\n",
      "cons.price.idx          16476 non-null float64\n",
      "duration                16476 non-null int64\n",
      "emp.var.rate            16476 non-null float64\n",
      "euribor3m               16476 non-null float64\n",
      "nr.employed             16476 non-null float64\n",
      "pdays                   16476 non-null int64\n",
      "previous                16476 non-null int64\n",
      "target                  16476 non-null float64\n",
      "job_employed            16476 non-null uint8\n",
      "job_unemployed          16476 non-null uint8\n",
      "marital_divorced        16476 non-null uint8\n",
      "marital_married         16476 non-null uint8\n",
      "marital_single          16476 non-null uint8\n",
      "education_high          16476 non-null uint8\n",
      "education_illiterate    16476 non-null uint8\n",
      "education_school        16476 non-null uint8\n",
      "default_no              16476 non-null uint8\n",
      "default_yes             16476 non-null uint8\n",
      "housing_no              16476 non-null uint8\n",
      "housing_yes             16476 non-null uint8\n",
      "loan_no                 16476 non-null uint8\n",
      "loan_yes                16476 non-null uint8\n",
      "contact_cellular        16476 non-null uint8\n",
      "contact_telephone       16476 non-null uint8\n",
      "poutcome_failure        16476 non-null uint8\n",
      "poutcome_nonexistent    16476 non-null uint8\n",
      "poutcome_success        16476 non-null uint8\n",
      "dtypes: float64(6), int64(5), uint8(19)\n",
      "memory usage: 1.8 MB\n"
     ]
    }
   ],
   "source": [
    "#все таки нужно объединить тест и трейн, чтобы были одинаковые поля\n",
    "#обучить модель на тесте , а потом предсказать\n",
    "df_test1_preproc.info()"
   ]
  },
  {
   "cell_type": "code",
   "execution_count": null,
   "metadata": {},
   "outputs": [],
   "source": [
    "_id - идентификатор человека\n",
    "age - возраст\n",
    "job - тип работы (\"admin.\",\"blue-collar\",\"entrepreneur\",\"housemaid\",\"management\",\"retired\",\"self-employed\",\"services\",\"student\",\"technician\",\"unemployed\",\"unknown\")\n",
    "marital - семейное положение (\"divorced\" (разведенный и овдовевший),\"married\",\"single\",\"unknown\")\n",
    "education - уровень образования (\"basic.4y\",\"basic.6y\",\"basic.9y\",\"high.school\",\"illiterate\",\"professional.course\",\"university.degree\",\"unknown\")\n",
    "default - есть ли дефолт по кредиту (\"no\",\"yes\",\"unknown\")\n",
    "housing - есть ли кредит на жилье (\"no\",\"yes\",\"unknown\")\n",
    "loan - есть ли персональный кредит (\"no\",\"yes\",\"unknown\")\n",
    "contact - контактный тип связи (\"cellular\",\"telephone\")\n",
    "month - последний контактный месяц года (\"jan\", \"feb\", \"mar\", ..., \"nov\", \"dec\")\n",
    "day_of_week - последний контактный день недели (\"mon\",\"tue\",\"wed\",\"thu\",\"fri\")\n",
    "duration - длительность последнего контакта в секундах. (Важное замечание: этот атрибут сильно влияет на таргет (например, если длительность - 0 сек., то таргет - 0). Тем не менее, продолжительность не известна до выполнения вызова.\n",
    "campaign - количество контактов, выполненных для этого клиента в рамках текущей маркетинговой кампании (включая последний контакт)\n",
    "pdays - количество дней прошедших последнего контакта с клиентом с предыдущей маркетинговой кампании (999 означает, что ранее с клиентом не контактировали)\n",
    "previous - количество контактов, выполненных до текущей маркетинговой кампании для этого клиента\n",
    "poutcome - результат предыдущей маркетинговой кампании (\"failure\",\"nonexistent\",\"success\")\n",
    "# ниже приведены показатели окружающей среды и банка\n",
    "emp.var.rate - изменение уровня занятости (квартальный показатель)\n",
    "cons.price.idx - индекс потребительских цен (ежемесячный показатель)\n",
    "cons.conf.idx - индекс доверия потребителя (ежемесячный показатель)\n",
    "euribor3m - курс Euribor (ежедневный показатель)\n",
    "nr.employed - количество сотрудников (квартальный показатель)\n",
    "target - целевая переменная (таргет) - согласился ли клиент на вклад (депозит)"
   ]
  },
  {
   "cell_type": "code",
   "execution_count": 89,
   "metadata": {},
   "outputs": [],
   "source": [
    "def preproc_df(df_input):\n",
    "    df_loc = df_input.copy()\n",
    "    #Заменяем unknown на NaN\n",
    "    df_loc = df_loc.replace(\"unknown\", np.nan)\n",
    "    #Заменяем пропуска на моду\n",
    "    df_loc = df_loc.fillna(df_loc.mode().loc[0])\n",
    "    \n",
    "    def proc_job(i):\n",
    "        if i in [\"unemployed\",\"student\",\"retired\",\"housemaid\"]:\n",
    "            i = \"unemployed\"\n",
    "        else: i = \"employed\"    \n",
    "          \n",
    "     #   if (i != \"unknown\") & (i != \"unemployed\"):\n",
    "     #       i = \"employed\"\n",
    "           \n",
    "        return i\n",
    "    df_loc['job'] = df_loc['job'].map(proc_job)\n",
    "    \n",
    "    def proc_education(i):\n",
    "        if i in [\"basic.4y\",\"basic.6y\",\"basic.9y\"]:\n",
    "            i = \"school\"\n",
    "        elif i in [\"high.school\",\"professional.course\",\"university.degree\"]:\n",
    "            i = \"high\"\n",
    "        return i\n",
    "    df_loc['education'] = df_loc['education'].map(proc_education)\n",
    "    df_loc = df_loc.drop(['month','day_of_week','_id'], axis=1)\n",
    "    \n",
    "    df_loc = pd.get_dummies(df_loc, columns=['job','marital', 'education','default','housing','loan','contact','poutcome'])\n",
    "    \n",
    "    return df_loc"
   ]
  },
  {
   "cell_type": "code",
   "execution_count": 90,
   "metadata": {},
   "outputs": [],
   "source": [
    "df_train1 = ''\n",
    "df_train1 = df.pipe(preproc_df)"
   ]
  },
  {
   "cell_type": "code",
   "execution_count": 60,
   "metadata": {},
   "outputs": [
    {
     "data": {
      "text/plain": [
       "Index(['age', 'campaign', 'cons.conf.idx', 'cons.price.idx', 'duration',\n",
       "       'emp.var.rate', 'euribor3m', 'nr.employed', 'pdays', 'previous',\n",
       "       'sample', 'target', 'job_admin.', 'job_blue-collar', 'job_entrepreneur',\n",
       "       'job_management', 'job_self-employed', 'job_services', 'job_technician',\n",
       "       'job_unemployed', 'marital_divorced', 'marital_married',\n",
       "       'marital_single', 'education_high', 'education_illiterate',\n",
       "       'education_school', 'default_no', 'default_yes', 'housing_no',\n",
       "       'housing_yes', 'loan_no', 'loan_yes', 'contact_cellular',\n",
       "       'contact_telephone', 'poutcome_failure', 'poutcome_nonexistent',\n",
       "       'poutcome_success'],\n",
       "      dtype='object')"
      ]
     },
     "execution_count": 60,
     "metadata": {},
     "output_type": "execute_result"
    }
   ],
   "source": [
    "df_train1.columns"
   ]
  },
  {
   "cell_type": "code",
   "execution_count": 64,
   "metadata": {},
   "outputs": [],
   "source": [
    "df_train1_preproc = df_train1.query('sample == \"train\"').drop(['sample'], axis=1)\n",
    "df_test1_preproc = df_train1.query('sample == \"test\"').drop(['sample'], axis=1)\n"
   ]
  },
  {
   "cell_type": "code",
   "execution_count": 91,
   "metadata": {},
   "outputs": [],
   "source": [
    "X_train = df_train1_preproc.drop(['target'], axis=1)\n",
    "y_train = df_train1_preproc['target']\n",
    "X_test = df_test1_preproc.drop(['target'], axis=1)\n",
    "y_test = df_test1_preproc['target']"
   ]
  },
  {
   "cell_type": "code",
   "execution_count": 92,
   "metadata": {},
   "outputs": [],
   "source": [
    "from sklearn.model_selection import train_test_split\n",
    "X_train1, X_test1, y_train1, y_test1 = \\\n",
    "    train_test_split(X_train, y_train, test_size=0.3, random_state=42)"
   ]
  },
  {
   "cell_type": "code",
   "execution_count": 93,
   "metadata": {},
   "outputs": [
    {
     "name": "stderr",
     "output_type": "stream",
     "text": [
      "c:\\users\\yurki\\appdata\\local\\programs\\python\\python37\\lib\\site-packages\\sklearn\\linear_model\\logistic.py:432: FutureWarning: Default solver will be changed to 'lbfgs' in 0.22. Specify a solver to silence this warning.\n",
      "  FutureWarning)\n"
     ]
    },
    {
     "data": {
      "text/plain": [
       "LogisticRegression(C=1.0, class_weight=None, dual=False, fit_intercept=True,\n",
       "          intercept_scaling=1, max_iter=100, multi_class='warn',\n",
       "          n_jobs=None, penalty='l2', random_state=None, solver='warn',\n",
       "          tol=0.0001, verbose=0, warm_start=False)"
      ]
     },
     "execution_count": 93,
     "metadata": {},
     "output_type": "execute_result"
    }
   ],
   "source": [
    "from sklearn.tree import DecisionTreeClassifier\n",
    "from sklearn.linear_model import LogisticRegression\n",
    "from sklearn.model_selection import cross_val_score\n",
    "#tree = DecisionTreeClassifier()\n",
    "model = LogisticRegression()\n",
    "model.fit(X_train1, y_train1)"
   ]
  },
  {
   "cell_type": "code",
   "execution_count": 68,
   "metadata": {},
   "outputs": [],
   "source": [
    "predict = model.predict(X_test1)"
   ]
  },
  {
   "cell_type": "code",
   "execution_count": 94,
   "metadata": {},
   "outputs": [
    {
     "name": "stdout",
     "output_type": "stream",
     "text": [
      "precision 0.6680244399185336\n",
      "recall 0.38908659549228947\n",
      "accuracy 0.9085513892635554\n"
     ]
    }
   ],
   "source": [
    "from sklearn.metrics import accuracy_score, precision_score, recall_score\n",
    "\n",
    "print('precision', precision_score(y_test1, predict))\n",
    "print('recall', recall_score(y_test1, predict))\n",
    "print('accuracy', accuracy_score(y_test1, predict))"
   ]
  },
  {
   "cell_type": "code",
   "execution_count": 95,
   "metadata": {},
   "outputs": [
    {
     "name": "stderr",
     "output_type": "stream",
     "text": [
      "c:\\users\\yurki\\appdata\\local\\programs\\python\\python37\\lib\\site-packages\\sklearn\\linear_model\\logistic.py:432: FutureWarning: Default solver will be changed to 'lbfgs' in 0.22. Specify a solver to silence this warning.\n",
      "  FutureWarning)\n",
      "c:\\users\\yurki\\appdata\\local\\programs\\python\\python37\\lib\\site-packages\\sklearn\\linear_model\\logistic.py:432: FutureWarning: Default solver will be changed to 'lbfgs' in 0.22. Specify a solver to silence this warning.\n",
      "  FutureWarning)\n",
      "c:\\users\\yurki\\appdata\\local\\programs\\python\\python37\\lib\\site-packages\\sklearn\\linear_model\\logistic.py:432: FutureWarning: Default solver will be changed to 'lbfgs' in 0.22. Specify a solver to silence this warning.\n",
      "  FutureWarning)\n",
      "c:\\users\\yurki\\appdata\\local\\programs\\python\\python37\\lib\\site-packages\\sklearn\\linear_model\\logistic.py:432: FutureWarning: Default solver will be changed to 'lbfgs' in 0.22. Specify a solver to silence this warning.\n",
      "  FutureWarning)\n",
      "c:\\users\\yurki\\appdata\\local\\programs\\python\\python37\\lib\\site-packages\\sklearn\\linear_model\\logistic.py:432: FutureWarning: Default solver will be changed to 'lbfgs' in 0.22. Specify a solver to silence this warning.\n",
      "  FutureWarning)\n",
      "c:\\users\\yurki\\appdata\\local\\programs\\python\\python37\\lib\\site-packages\\sklearn\\linear_model\\logistic.py:432: FutureWarning: Default solver will be changed to 'lbfgs' in 0.22. Specify a solver to silence this warning.\n",
      "  FutureWarning)\n",
      "c:\\users\\yurki\\appdata\\local\\programs\\python\\python37\\lib\\site-packages\\sklearn\\linear_model\\logistic.py:432: FutureWarning: Default solver will be changed to 'lbfgs' in 0.22. Specify a solver to silence this warning.\n",
      "  FutureWarning)\n",
      "c:\\users\\yurki\\appdata\\local\\programs\\python\\python37\\lib\\site-packages\\sklearn\\linear_model\\logistic.py:432: FutureWarning: Default solver will be changed to 'lbfgs' in 0.22. Specify a solver to silence this warning.\n",
      "  FutureWarning)\n",
      "c:\\users\\yurki\\appdata\\local\\programs\\python\\python37\\lib\\site-packages\\sklearn\\linear_model\\logistic.py:432: FutureWarning: Default solver will be changed to 'lbfgs' in 0.22. Specify a solver to silence this warning.\n",
      "  FutureWarning)\n",
      "c:\\users\\yurki\\appdata\\local\\programs\\python\\python37\\lib\\site-packages\\sklearn\\linear_model\\logistic.py:432: FutureWarning: Default solver will be changed to 'lbfgs' in 0.22. Specify a solver to silence this warning.\n",
      "  FutureWarning)\n"
     ]
    },
    {
     "name": "stdout",
     "output_type": "stream",
     "text": [
      "Средний roc_auc:\n",
      "0.9208590229232371\n"
     ]
    }
   ],
   "source": [
    "#Делаем кросс-валидацию и считаем средний roc_auc\n",
    "from sklearn.model_selection import cross_val_score\n",
    "\n",
    "cross_val_score = cross_val_score(model, X_train, y_train, scoring='roc_auc', cv=10)\n",
    "print(\"Средний roc_auc:\")\n",
    "print(cross_val_score.mean())"
   ]
  },
  {
   "cell_type": "code",
   "execution_count": 96,
   "metadata": {},
   "outputs": [
    {
     "name": "stdout",
     "output_type": "stream",
     "text": [
      "roc_auc 0.9252215917635146\n"
     ]
    }
   ],
   "source": [
    "from sklearn.metrics import roc_auc_score, roc_curve\n",
    "predic_proba_model = model.predict_proba(X_test1)\n",
    "print('roc_auc', roc_auc_score(y_test1, predic_proba_model[:,1]))"
   ]
  },
  {
   "cell_type": "code",
   "execution_count": 72,
   "metadata": {},
   "outputs": [
    {
     "data": {
      "text/plain": [
       "(-0.01, 1.01)"
      ]
     },
     "execution_count": 72,
     "metadata": {},
     "output_type": "execute_result"
    },
    {
     "data": {
      "image/png": "[encoded data removed]",
      "text/plain": [
       "<Figure size 360x360 with 1 Axes>"
      ]
     },
     "metadata": {},
     "output_type": "display_data"
    }
   ],
   "source": [
    "#Строим ROC кривую\n",
    "from sklearn.metrics import roc_auc_score, roc_curve\n",
    "fpr, tpr, thresholds = roc_curve(y_test1, predic_proba_model[:,1])\n",
    "plt.figure(figsize=(5, 5))\n",
    "plt.plot(fpr, tpr)\n",
    "plt.plot([0, 1], [0, 1])\n",
    "plt.ylabel('tpr')\n",
    "plt.xlabel('fpr')\n",
    "plt.grid(True)\n",
    "plt.title('ROC curve')\n",
    "plt.xlim((-0.01, 1.01))\n",
    "plt.ylim((-0.01, 1.01))"
   ]
  },
  {
   "cell_type": "code",
   "execution_count": 73,
   "metadata": {},
   "outputs": [],
   "source": [
    "predict_test = model.predict(X_test)"
   ]
  },
  {
   "cell_type": "code",
   "execution_count": 74,
   "metadata": {},
   "outputs": [
    {
     "data": {
      "text/plain": [
       "array([0., 0., 0., ..., 0., 0., 0.])"
      ]
     },
     "execution_count": 74,
     "metadata": {},
     "output_type": "execute_result"
    }
   ],
   "source": [
    "predict_test"
   ]
  },
  {
   "cell_type": "code",
   "execution_count": 75,
   "metadata": {},
   "outputs": [],
   "source": [
    "se = pd.Series(predict_test)\n",
    "df_test['target'] = se.values"
   ]
  },
  {
   "cell_type": "code",
   "execution_count": 76,
   "metadata": {},
   "outputs": [],
   "source": [
    "df_results = df_test[['_id','target']]"
   ]
  },
  {
   "cell_type": "code",
   "execution_count": 78,
   "metadata": {},
   "outputs": [],
   "source": [
    "df_results.to_csv('result5.csv',sep=',', encoding='utf8')"
   ]
  }
 ],
 "metadata": {
  "kernelspec": {
   "display_name": "Python 3",
   "language": "python",
   "name": "python3"
  },
  "language_info": {
   "codemirror_mode": {
    "name": "ipython",
    "version": 3
   },
   "file_extension": ".py",
   "mimetype": "text/x-python",
   "name": "python",
   "nbconvert_exporter": "python",
   "pygments_lexer": "ipython3",
   "version": "3.7.1rc1"
  }
 },
 "nbformat": 4,
 "nbformat_minor": 2
}
